{
 "cells": [
  {
   "cell_type": "markdown",
   "metadata": {},
   "source": [
    "# K-Nearest-Neighbors"
   ]
  },
  {
   "cell_type": "markdown",
   "metadata": {},
   "source": [
    "For unserstanding the basics of KNN from stratch, a excellant ersources for KNN is at https://towardsdatascience.com/machine-learning-basics-with-the-k-nearest-neighbors-algorithm-6a6e71d01761"
   ]
  },
  {
   "cell_type": "markdown",
   "metadata": {},
   "source": [
    "https://medium.com/@adi.bronshtein/a-quick-introduction-to-k-nearest-neighbors-algorithm-62214cea29c7\"\""
   ]
  },
  {
   "cell_type": "markdown",
   "metadata": {},
   "source": [
    "## Import Data and Python modules"
   ]
  },
  {
   "cell_type": "code",
   "execution_count": 7,
   "metadata": {
    "collapsed": true
   },
   "outputs": [],
   "source": [
    "# Python imports\n",
    "import numpy as np\n",
    "import pandas as pd\n",
    "import matplotlib.pyplot as plt\n",
    "import seaborn as sns\n",
    "%matplotlib inline\n",
    "sns.set(style='whitegrid')"
   ]
  },
  {
   "cell_type": "code",
   "execution_count": 12,
   "metadata": {
    "collapsed": true
   },
   "outputs": [],
   "source": [
    "# Read the Data sets\n",
    "datasets = pd.read_csv('Classified Data', index_col=0)"
   ]
  },
  {
   "cell_type": "markdown",
   "metadata": {},
   "source": [
    "## Data Analysis and Exploration"
   ]
  },
  {
   "cell_type": "code",
   "execution_count": 13,
   "metadata": {},
   "outputs": [
    {
     "name": "stdout",
     "output_type": "stream",
     "text": [
      "<class 'pandas.core.frame.DataFrame'>\n",
      "Int64Index: 1000 entries, 0 to 999\n",
      "Data columns (total 11 columns):\n",
      "WTT             1000 non-null float64\n",
      "PTI             1000 non-null float64\n",
      "EQW             1000 non-null float64\n",
      "SBI             1000 non-null float64\n",
      "LQE             1000 non-null float64\n",
      "QWG             1000 non-null float64\n",
      "FDJ             1000 non-null float64\n",
      "PJF             1000 non-null float64\n",
      "HQE             1000 non-null float64\n",
      "NXJ             1000 non-null float64\n",
      "TARGET CLASS    1000 non-null int64\n",
      "dtypes: float64(10), int64(1)\n",
      "memory usage: 93.8 KB\n"
     ]
    }
   ],
   "source": [
    "datasets.info()"
   ]
  },
  {
   "cell_type": "markdown",
   "metadata": {},
   "source": [
    "The datasets contains 1000 data with no null values."
   ]
  },
  {
   "cell_type": "code",
   "execution_count": 14,
   "metadata": {},
   "outputs": [
    {
     "data": {
      "text/html": [
       "<div>\n",
       "<style>\n",
       "    .dataframe thead tr:only-child th {\n",
       "        text-align: right;\n",
       "    }\n",
       "\n",
       "    .dataframe thead th {\n",
       "        text-align: left;\n",
       "    }\n",
       "\n",
       "    .dataframe tbody tr th {\n",
       "        vertical-align: top;\n",
       "    }\n",
       "</style>\n",
       "<table border=\"1\" class=\"dataframe\">\n",
       "  <thead>\n",
       "    <tr style=\"text-align: right;\">\n",
       "      <th></th>\n",
       "      <th>WTT</th>\n",
       "      <th>PTI</th>\n",
       "      <th>EQW</th>\n",
       "      <th>SBI</th>\n",
       "      <th>LQE</th>\n",
       "      <th>QWG</th>\n",
       "      <th>FDJ</th>\n",
       "      <th>PJF</th>\n",
       "      <th>HQE</th>\n",
       "      <th>NXJ</th>\n",
       "      <th>TARGET CLASS</th>\n",
       "    </tr>\n",
       "  </thead>\n",
       "  <tbody>\n",
       "    <tr>\n",
       "      <th>0</th>\n",
       "      <td>0.913917</td>\n",
       "      <td>1.162073</td>\n",
       "      <td>0.567946</td>\n",
       "      <td>0.755464</td>\n",
       "      <td>0.780862</td>\n",
       "      <td>0.352608</td>\n",
       "      <td>0.759697</td>\n",
       "      <td>0.643798</td>\n",
       "      <td>0.879422</td>\n",
       "      <td>1.231409</td>\n",
       "      <td>1</td>\n",
       "    </tr>\n",
       "    <tr>\n",
       "      <th>1</th>\n",
       "      <td>0.635632</td>\n",
       "      <td>1.003722</td>\n",
       "      <td>0.535342</td>\n",
       "      <td>0.825645</td>\n",
       "      <td>0.924109</td>\n",
       "      <td>0.648450</td>\n",
       "      <td>0.675334</td>\n",
       "      <td>1.013546</td>\n",
       "      <td>0.621552</td>\n",
       "      <td>1.492702</td>\n",
       "      <td>0</td>\n",
       "    </tr>\n",
       "    <tr>\n",
       "      <th>2</th>\n",
       "      <td>0.721360</td>\n",
       "      <td>1.201493</td>\n",
       "      <td>0.921990</td>\n",
       "      <td>0.855595</td>\n",
       "      <td>1.526629</td>\n",
       "      <td>0.720781</td>\n",
       "      <td>1.626351</td>\n",
       "      <td>1.154483</td>\n",
       "      <td>0.957877</td>\n",
       "      <td>1.285597</td>\n",
       "      <td>0</td>\n",
       "    </tr>\n",
       "    <tr>\n",
       "      <th>3</th>\n",
       "      <td>1.234204</td>\n",
       "      <td>1.386726</td>\n",
       "      <td>0.653046</td>\n",
       "      <td>0.825624</td>\n",
       "      <td>1.142504</td>\n",
       "      <td>0.875128</td>\n",
       "      <td>1.409708</td>\n",
       "      <td>1.380003</td>\n",
       "      <td>1.522692</td>\n",
       "      <td>1.153093</td>\n",
       "      <td>1</td>\n",
       "    </tr>\n",
       "    <tr>\n",
       "      <th>4</th>\n",
       "      <td>1.279491</td>\n",
       "      <td>0.949750</td>\n",
       "      <td>0.627280</td>\n",
       "      <td>0.668976</td>\n",
       "      <td>1.232537</td>\n",
       "      <td>0.703727</td>\n",
       "      <td>1.115596</td>\n",
       "      <td>0.646691</td>\n",
       "      <td>1.463812</td>\n",
       "      <td>1.419167</td>\n",
       "      <td>1</td>\n",
       "    </tr>\n",
       "  </tbody>\n",
       "</table>\n",
       "</div>"
      ],
      "text/plain": [
       "        WTT       PTI       EQW       SBI       LQE       QWG       FDJ  \\\n",
       "0  0.913917  1.162073  0.567946  0.755464  0.780862  0.352608  0.759697   \n",
       "1  0.635632  1.003722  0.535342  0.825645  0.924109  0.648450  0.675334   \n",
       "2  0.721360  1.201493  0.921990  0.855595  1.526629  0.720781  1.626351   \n",
       "3  1.234204  1.386726  0.653046  0.825624  1.142504  0.875128  1.409708   \n",
       "4  1.279491  0.949750  0.627280  0.668976  1.232537  0.703727  1.115596   \n",
       "\n",
       "        PJF       HQE       NXJ  TARGET CLASS  \n",
       "0  0.643798  0.879422  1.231409             1  \n",
       "1  1.013546  0.621552  1.492702             0  \n",
       "2  1.154483  0.957877  1.285597             0  \n",
       "3  1.380003  1.522692  1.153093             1  \n",
       "4  0.646691  1.463812  1.419167             1  "
      ]
     },
     "execution_count": 14,
     "metadata": {},
     "output_type": "execute_result"
    }
   ],
   "source": [
    "datasets.head()"
   ]
  },
  {
   "cell_type": "markdown",
   "metadata": {},
   "source": [
    "## Split the data into independant and dependant feature"
   ]
  },
  {
   "cell_type": "code",
   "execution_count": 17,
   "metadata": {
    "collapsed": true
   },
   "outputs": [],
   "source": [
    "X = datasets.iloc[:,:-1].values"
   ]
  },
  {
   "cell_type": "code",
   "execution_count": 22,
   "metadata": {},
   "outputs": [
    {
     "data": {
      "text/plain": [
       "array([[ 0.91391733,  1.16207271,  0.56794585,  0.7554639 ,  0.78086157,\n",
       "         0.35260772,  0.75969691,  0.64379756,  0.87942209,  1.23140944],\n",
       "       [ 0.6356319 ,  1.00372163,  0.53534235,  0.82564485,  0.92410893,\n",
       "         0.64845024,  0.67533431,  1.01354599,  0.62155222,  1.4927016 ],\n",
       "       [ 0.72135981,  1.20149262,  0.92198973,  0.85559498,  1.52662939,\n",
       "         0.72078089,  1.62635071,  1.15448315,  0.95787702,  1.28559679],\n",
       "       [ 1.2342044 ,  1.38672629,  0.65304631,  0.82562445,  1.14250354,\n",
       "         0.87512792,  1.40970806,  1.38000255,  1.52269205,  1.15309302],\n",
       "       [ 1.27949082,  0.94974956,  0.62728004,  0.66897608,  1.2325373 ,\n",
       "         0.70372744,  1.1155955 ,  0.6466907 ,  1.46381175,  1.41916658]])"
      ]
     },
     "execution_count": 22,
     "metadata": {},
     "output_type": "execute_result"
    }
   ],
   "source": [
    "X[:5]"
   ]
  },
  {
   "cell_type": "code",
   "execution_count": 23,
   "metadata": {
    "collapsed": true
   },
   "outputs": [],
   "source": [
    "Y = datasets.iloc[:,-1].values"
   ]
  },
  {
   "cell_type": "code",
   "execution_count": 24,
   "metadata": {},
   "outputs": [
    {
     "data": {
      "text/plain": [
       "array([1, 0, 0, 1, 1])"
      ]
     },
     "execution_count": 24,
     "metadata": {},
     "output_type": "execute_result"
    }
   ],
   "source": [
    "Y[:5]"
   ]
  },
  {
   "cell_type": "markdown",
   "metadata": {
    "collapsed": true
   },
   "source": [
    "## Scale the Data"
   ]
  },
  {
   "cell_type": "markdown",
   "metadata": {},
   "source": [
    "As KNN algorithm works on the Euclidean distance, os it is required to scale the data before fitting into the machione learning model."
   ]
  },
  {
   "cell_type": "code",
   "execution_count": 25,
   "metadata": {
    "collapsed": true
   },
   "outputs": [],
   "source": [
    "from sklearn.preprocessing import StandardScaler\n",
    "scalar = StandardScaler()\n",
    "sc_X = scalar.fit_transform(X)"
   ]
  },
  {
   "cell_type": "code",
   "execution_count": 27,
   "metadata": {},
   "outputs": [
    {
     "data": {
      "text/plain": [
       "array([[-0.12354188,  0.18590747, -0.91343069,  0.31962911, -1.03363681,\n",
       "        -2.3083747 , -0.79895135, -1.48236813, -0.9497194 , -0.64331425],\n",
       "       [-1.08483602, -0.43034845, -1.02531333,  0.62538826, -0.44484713,\n",
       "        -1.15270604, -1.12979749, -0.20224031, -1.82805088,  0.63675862],\n",
       "       [-0.78870217,  0.33931821,  0.30151137,  0.75587279,  2.03169299,\n",
       "        -0.87015616,  2.59981844,  0.28570652, -0.68249379, -0.37784986],\n",
       "       [ 0.9828405 ,  1.06019327, -0.62139875,  0.62529938,  0.45282034,\n",
       "        -0.26722041,  1.75020756,  1.06649052,  1.24132463, -1.02698711],\n",
       "       [ 1.13927548, -0.64039191, -0.70981864, -0.05717457,  0.82288616,\n",
       "        -0.93677314,  0.59678173, -1.47235164,  1.04077225,  0.2765098 ]])"
      ]
     },
     "execution_count": 27,
     "metadata": {},
     "output_type": "execute_result"
    }
   ],
   "source": [
    "sc_X[:5]"
   ]
  },
  {
   "cell_type": "markdown",
   "metadata": {},
   "source": [
    "## Split the Data into training and testing data"
   ]
  },
  {
   "cell_type": "code",
   "execution_count": 28,
   "metadata": {
    "collapsed": true
   },
   "outputs": [],
   "source": [
    "from sklearn.model_selection import train_test_split\n",
    "xtrain,xtest,ytrain,ytest = train_test_split(X,Y,test_size=0.3,random_state=3)"
   ]
  },
  {
   "cell_type": "markdown",
   "metadata": {},
   "source": [
    "## Train  the model with K = 1"
   ]
  },
  {
   "cell_type": "code",
   "execution_count": 29,
   "metadata": {
    "collapsed": true
   },
   "outputs": [],
   "source": [
    "from sklearn.neighbors import KNeighborsClassifier\n",
    "classifier = KNeighborsClassifier(n_neighbors=1)"
   ]
  },
  {
   "cell_type": "code",
   "execution_count": 30,
   "metadata": {},
   "outputs": [
    {
     "data": {
      "text/plain": [
       "KNeighborsClassifier(algorithm='auto', leaf_size=30, metric='minkowski',\n",
       "           metric_params=None, n_jobs=1, n_neighbors=1, p=2,\n",
       "           weights='uniform')"
      ]
     },
     "execution_count": 30,
     "metadata": {},
     "output_type": "execute_result"
    }
   ],
   "source": [
    "classifier"
   ]
  },
  {
   "cell_type": "code",
   "execution_count": 33,
   "metadata": {},
   "outputs": [],
   "source": [
    "classifier.fit(xtrain,ytrain)\n",
    "y_pred = classifier.predict(xtest)"
   ]
  },
  {
   "cell_type": "markdown",
   "metadata": {},
   "source": [
    "## Model Evaluation"
   ]
  },
  {
   "cell_type": "code",
   "execution_count": 36,
   "metadata": {},
   "outputs": [
    {
     "data": {
      "text/plain": [
       "array([[134,  14],\n",
       "       [ 12, 140]])"
      ]
     },
     "execution_count": 36,
     "metadata": {},
     "output_type": "execute_result"
    }
   ],
   "source": [
    "from sklearn.metrics import confusion_matrix,classification_report\n",
    "\n",
    "confusion_matrix(ytest,y_pred)"
   ]
  },
  {
   "cell_type": "code",
   "execution_count": 39,
   "metadata": {},
   "outputs": [
    {
     "name": "stdout",
     "output_type": "stream",
     "text": [
      "             precision    recall  f1-score   support\n",
      "\n",
      "          0       0.92      0.91      0.91       148\n",
      "          1       0.91      0.92      0.92       152\n",
      "\n",
      "avg / total       0.91      0.91      0.91       300\n",
      "\n"
     ]
    }
   ],
   "source": [
    "print(classification_report(ytest,y_pred))"
   ]
  },
  {
   "cell_type": "code",
   "execution_count": 40,
   "metadata": {},
   "outputs": [
    {
     "data": {
      "text/plain": [
       "0.08666666666666667"
      ]
     },
     "execution_count": 40,
     "metadata": {},
     "output_type": "execute_result"
    }
   ],
   "source": [
    "np.mean(y_pred!=ytest)"
   ]
  },
  {
   "cell_type": "markdown",
   "metadata": {},
   "source": [
    "## Calulate optimal K values"
   ]
  },
  {
   "cell_type": "code",
   "execution_count": 43,
   "metadata": {},
   "outputs": [
    {
     "name": "stdout",
     "output_type": "stream",
     "text": [
      "[0.08666666666666667]\n",
      "[0.08666666666666667, 0.10000000000000001]\n",
      "[0.08666666666666667, 0.10000000000000001, 0.066666666666666666]\n",
      "[0.08666666666666667, 0.10000000000000001, 0.066666666666666666, 0.070000000000000007]\n",
      "[0.08666666666666667, 0.10000000000000001, 0.066666666666666666, 0.070000000000000007, 0.059999999999999998]\n",
      "[0.08666666666666667, 0.10000000000000001, 0.066666666666666666, 0.070000000000000007, 0.059999999999999998, 0.050000000000000003]\n",
      "[0.08666666666666667, 0.10000000000000001, 0.066666666666666666, 0.070000000000000007, 0.059999999999999998, 0.050000000000000003, 0.050000000000000003]\n",
      "[0.08666666666666667, 0.10000000000000001, 0.066666666666666666, 0.070000000000000007, 0.059999999999999998, 0.050000000000000003, 0.050000000000000003, 0.040000000000000001]\n",
      "[0.08666666666666667, 0.10000000000000001, 0.066666666666666666, 0.070000000000000007, 0.059999999999999998, 0.050000000000000003, 0.050000000000000003, 0.040000000000000001, 0.050000000000000003]\n",
      "[0.08666666666666667, 0.10000000000000001, 0.066666666666666666, 0.070000000000000007, 0.059999999999999998, 0.050000000000000003, 0.050000000000000003, 0.040000000000000001, 0.050000000000000003, 0.050000000000000003]\n",
      "[0.08666666666666667, 0.10000000000000001, 0.066666666666666666, 0.070000000000000007, 0.059999999999999998, 0.050000000000000003, 0.050000000000000003, 0.040000000000000001, 0.050000000000000003, 0.050000000000000003, 0.053333333333333337]\n",
      "[0.08666666666666667, 0.10000000000000001, 0.066666666666666666, 0.070000000000000007, 0.059999999999999998, 0.050000000000000003, 0.050000000000000003, 0.040000000000000001, 0.050000000000000003, 0.050000000000000003, 0.053333333333333337, 0.050000000000000003]\n",
      "[0.08666666666666667, 0.10000000000000001, 0.066666666666666666, 0.070000000000000007, 0.059999999999999998, 0.050000000000000003, 0.050000000000000003, 0.040000000000000001, 0.050000000000000003, 0.050000000000000003, 0.053333333333333337, 0.050000000000000003, 0.056666666666666664]\n",
      "[0.08666666666666667, 0.10000000000000001, 0.066666666666666666, 0.070000000000000007, 0.059999999999999998, 0.050000000000000003, 0.050000000000000003, 0.040000000000000001, 0.050000000000000003, 0.050000000000000003, 0.053333333333333337, 0.050000000000000003, 0.056666666666666664, 0.046666666666666669]\n",
      "[0.08666666666666667, 0.10000000000000001, 0.066666666666666666, 0.070000000000000007, 0.059999999999999998, 0.050000000000000003, 0.050000000000000003, 0.040000000000000001, 0.050000000000000003, 0.050000000000000003, 0.053333333333333337, 0.050000000000000003, 0.056666666666666664, 0.046666666666666669, 0.056666666666666664]\n",
      "[0.08666666666666667, 0.10000000000000001, 0.066666666666666666, 0.070000000000000007, 0.059999999999999998, 0.050000000000000003, 0.050000000000000003, 0.040000000000000001, 0.050000000000000003, 0.050000000000000003, 0.053333333333333337, 0.050000000000000003, 0.056666666666666664, 0.046666666666666669, 0.056666666666666664, 0.046666666666666669]\n",
      "[0.08666666666666667, 0.10000000000000001, 0.066666666666666666, 0.070000000000000007, 0.059999999999999998, 0.050000000000000003, 0.050000000000000003, 0.040000000000000001, 0.050000000000000003, 0.050000000000000003, 0.053333333333333337, 0.050000000000000003, 0.056666666666666664, 0.046666666666666669, 0.056666666666666664, 0.046666666666666669, 0.056666666666666664]\n",
      "[0.08666666666666667, 0.10000000000000001, 0.066666666666666666, 0.070000000000000007, 0.059999999999999998, 0.050000000000000003, 0.050000000000000003, 0.040000000000000001, 0.050000000000000003, 0.050000000000000003, 0.053333333333333337, 0.050000000000000003, 0.056666666666666664, 0.046666666666666669, 0.056666666666666664, 0.046666666666666669, 0.056666666666666664, 0.056666666666666664]\n",
      "[0.08666666666666667, 0.10000000000000001, 0.066666666666666666, 0.070000000000000007, 0.059999999999999998, 0.050000000000000003, 0.050000000000000003, 0.040000000000000001, 0.050000000000000003, 0.050000000000000003, 0.053333333333333337, 0.050000000000000003, 0.056666666666666664, 0.046666666666666669, 0.056666666666666664, 0.046666666666666669, 0.056666666666666664, 0.056666666666666664, 0.056666666666666664]\n"
     ]
    }
   ],
   "source": [
    "error_rate = []\n",
    "for i in range(1,20):\n",
    "    classifier_updated = KNeighborsClassifier(n_neighbors=i)\n",
    "    classifier_updated.fit(xtrain,ytrain)\n",
    "    y_updated = classifier_updated.predict(xtest)\n",
    "    error_rate.append(np.mean(y_updated != ytest))\n",
    "    print(error_rate)"
   ]
  },
  {
   "cell_type": "code",
   "execution_count": 44,
   "metadata": {},
   "outputs": [
    {
     "data": {
      "text/plain": [
       "[0.08666666666666667,\n",
       " 0.10000000000000001,\n",
       " 0.066666666666666666,\n",
       " 0.070000000000000007,\n",
       " 0.059999999999999998,\n",
       " 0.050000000000000003,\n",
       " 0.050000000000000003,\n",
       " 0.040000000000000001,\n",
       " 0.050000000000000003,\n",
       " 0.050000000000000003,\n",
       " 0.053333333333333337,\n",
       " 0.050000000000000003,\n",
       " 0.056666666666666664,\n",
       " 0.046666666666666669,\n",
       " 0.056666666666666664,\n",
       " 0.046666666666666669,\n",
       " 0.056666666666666664,\n",
       " 0.056666666666666664,\n",
       " 0.056666666666666664]"
      ]
     },
     "execution_count": 44,
     "metadata": {},
     "output_type": "execute_result"
    }
   ],
   "source": [
    "error_rate"
   ]
  },
  {
   "cell_type": "markdown",
   "metadata": {},
   "source": [
    "## Data visualization"
   ]
  },
  {
   "cell_type": "code",
   "execution_count": 51,
   "metadata": {},
   "outputs": [
    {
     "data": {
      "text/plain": [
       "<Figure size 720x432 with 0 Axes>"
      ]
     },
     "execution_count": 51,
     "metadata": {},
     "output_type": "execute_result"
    },
    {
     "data": {
      "image/png": "[encoded data removed]",
      "text/plain": [
       "<Figure size 432x288 with 1 Axes>"
      ]
     },
     "metadata": {},
     "output_type": "display_data"
    },
    {
     "data": {
      "text/plain": [
       "<Figure size 720x432 with 0 Axes>"
      ]
     },
     "metadata": {},
     "output_type": "display_data"
    }
   ],
   "source": [
    "## plt.title(\"error_rate vs k values\")\n",
    "plt.xlabel('k values')\n",
    "plt.ylabel('error_rate')\n",
    "plt.plot(range(1,20),error_rate,marker='o',linestyle='dashed',color='blue',markerfacecolor='red')\n",
    "plt.figure(figsize=(10,6))"
   ]
  },
  {
   "cell_type": "markdown",
   "metadata": {},
   "source": [
    "From te figure above, the optimal values appears to be value 18. Let calculate the average confusion matrix with K=18."
   ]
  },
  {
   "cell_type": "code",
   "execution_count": 52,
   "metadata": {},
   "outputs": [
    {
     "data": {
      "text/plain": [
       "array([[137,  11],\n",
       "       [  6, 146]])"
      ]
     },
     "execution_count": 52,
     "metadata": {},
     "output_type": "execute_result"
    }
   ],
   "source": [
    "classifier = KNeighborsClassifier(n_neighbors=18)\n",
    "classifier.fit(xtrain,ytrain)\n",
    "y_pred = classifier.predict(xtest)\n",
    "confusion_matrix(ytest,y_pred)"
   ]
  },
  {
   "cell_type": "code",
   "execution_count": 53,
   "metadata": {},
   "outputs": [
    {
     "name": "stdout",
     "output_type": "stream",
     "text": [
      "             precision    recall  f1-score   support\n",
      "\n",
      "          0       0.96      0.93      0.94       148\n",
      "          1       0.93      0.96      0.94       152\n",
      "\n",
      "avg / total       0.94      0.94      0.94       300\n",
      "\n"
     ]
    }
   ],
   "source": [
    "print(classification_report(ytest,y_pred))"
   ]
  },
  {
   "cell_type": "markdown",
   "metadata": {},
   "source": [
    "We can see that  the average and confusion matrix increased with K=18."
   ]
  },
  {
   "cell_type": "markdown",
   "metadata": {},
   "source": [
    "# Great job!\n",
    "\n",
    "We were able to squeeze some more performance out of our model by tuning to a better K value!"
   ]
  },
  {
   "cell_type": "code",
   "execution_count": null,
   "metadata": {
    "collapsed": true
   },
   "outputs": [],
   "source": []
  }
 ],
 "metadata": {
  "kernelspec": {
   "display_name": "Python 3",
   "language": "python",
   "name": "python3"
  },
  "language_info": {
   "codemirror_mode": {
    "name": "ipython",
    "version": 3
   },
   "file_extension": ".py",
   "mimetype": "text/x-python",
   "name": "python",
   "nbconvert_exporter": "python",
   "pygments_lexer": "ipython3",
   "version": "3.4.3"
  }
 },
 "nbformat": 4,
 "nbformat_minor": 2
}
