{
 "cells": [
  {
   "cell_type": "markdown",
   "metadata": {},
   "source": [
    "# Random Forest Regression - 2"
   ]
  },
  {
   "cell_type": "markdown",
   "metadata": {},
   "source": [
    "Most of the time, to predict the continuous value in the datasets, the decision tree and Random forest regression predict the estimated value in subtle manner."
   ]
  },
  {
   "cell_type": "markdown",
   "metadata": {},
   "source": [
    "## Goal"
   ]
  },
  {
   "cell_type": "markdown",
   "metadata": {},
   "source": [
    "To predict the petrol consumption from the features like average income, paved highways, etc."
   ]
  },
  {
   "cell_type": "markdown",
   "metadata": {},
   "source": [
    "\n",
    "## Python imports"
   ]
  },
  {
   "cell_type": "code",
   "execution_count": 2,
   "metadata": {
    "collapsed": true
   },
   "outputs": [],
   "source": [
    "# Python imports\n",
    "import numpy as np\n",
    "import pandas as pd\n",
    "import matplotlib.pyplot as plt\n",
    "%matplotlib inline"
   ]
  },
  {
   "cell_type": "markdown",
   "metadata": {},
   "source": [
    "\n",
    "## Read the Datasets"
   ]
  },
  {
   "cell_type": "code",
   "execution_count": 3,
   "metadata": {},
   "outputs": [
    {
     "name": "stdout",
     "output_type": "stream",
     "text": [
      "<class 'pandas.core.frame.DataFrame'>\n",
      "RangeIndex: 48 entries, 0 to 47\n",
      "Data columns (total 5 columns):\n",
      "Petrol_tax                      48 non-null float64\n",
      "Average_income                  48 non-null int64\n",
      "Paved_Highways                  48 non-null int64\n",
      "Population_Driver_licence(%)    48 non-null float64\n",
      "Petrol_Consumption              48 non-null int64\n",
      "dtypes: float64(2), int64(3)\n",
      "memory usage: 2.0 KB\n"
     ]
    }
   ],
   "source": [
    "# reading the datasets\n",
    "datasets = pd.read_csv('petrol_consumption.csv')\n",
    "datasets.info()"
   ]
  },
  {
   "cell_type": "code",
   "execution_count": 4,
   "metadata": {},
   "outputs": [
    {
     "data": {
      "text/html": [
       "<div>\n",
       "<style>\n",
       "    .dataframe thead tr:only-child th {\n",
       "        text-align: right;\n",
       "    }\n",
       "\n",
       "    .dataframe thead th {\n",
       "        text-align: left;\n",
       "    }\n",
       "\n",
       "    .dataframe tbody tr th {\n",
       "        vertical-align: top;\n",
       "    }\n",
       "</style>\n",
       "<table border=\"1\" class=\"dataframe\">\n",
       "  <thead>\n",
       "    <tr style=\"text-align: right;\">\n",
       "      <th></th>\n",
       "      <th>Petrol_tax</th>\n",
       "      <th>Average_income</th>\n",
       "      <th>Paved_Highways</th>\n",
       "      <th>Population_Driver_licence(%)</th>\n",
       "      <th>Petrol_Consumption</th>\n",
       "    </tr>\n",
       "  </thead>\n",
       "  <tbody>\n",
       "    <tr>\n",
       "      <th>0</th>\n",
       "      <td>9.0</td>\n",
       "      <td>3571</td>\n",
       "      <td>1976</td>\n",
       "      <td>0.525</td>\n",
       "      <td>541</td>\n",
       "    </tr>\n",
       "    <tr>\n",
       "      <th>1</th>\n",
       "      <td>9.0</td>\n",
       "      <td>4092</td>\n",
       "      <td>1250</td>\n",
       "      <td>0.572</td>\n",
       "      <td>524</td>\n",
       "    </tr>\n",
       "    <tr>\n",
       "      <th>2</th>\n",
       "      <td>9.0</td>\n",
       "      <td>3865</td>\n",
       "      <td>1586</td>\n",
       "      <td>0.580</td>\n",
       "      <td>561</td>\n",
       "    </tr>\n",
       "    <tr>\n",
       "      <th>3</th>\n",
       "      <td>7.5</td>\n",
       "      <td>4870</td>\n",
       "      <td>2351</td>\n",
       "      <td>0.529</td>\n",
       "      <td>414</td>\n",
       "    </tr>\n",
       "    <tr>\n",
       "      <th>4</th>\n",
       "      <td>8.0</td>\n",
       "      <td>4399</td>\n",
       "      <td>431</td>\n",
       "      <td>0.544</td>\n",
       "      <td>410</td>\n",
       "    </tr>\n",
       "  </tbody>\n",
       "</table>\n",
       "</div>"
      ],
      "text/plain": [
       "   Petrol_tax  Average_income  Paved_Highways  Population_Driver_licence(%)  \\\n",
       "0         9.0            3571            1976                         0.525   \n",
       "1         9.0            4092            1250                         0.572   \n",
       "2         9.0            3865            1586                         0.580   \n",
       "3         7.5            4870            2351                         0.529   \n",
       "4         8.0            4399             431                         0.544   \n",
       "\n",
       "   Petrol_Consumption  \n",
       "0                 541  \n",
       "1                 524  \n",
       "2                 561  \n",
       "3                 414  \n",
       "4                 410  "
      ]
     },
     "execution_count": 4,
     "metadata": {},
     "output_type": "execute_result"
    }
   ],
   "source": [
    "datasets.head()"
   ]
  },
  {
   "cell_type": "markdown",
   "metadata": {},
   "source": [
    "\n",
    "\n",
    "## Data analysis"
   ]
  },
  {
   "cell_type": "code",
   "execution_count": 5,
   "metadata": {
    "collapsed": true
   },
   "outputs": [],
   "source": [
    "X = datasets.iloc[:,0:4].values\n",
    "Y = datasets.iloc[:,4:].values"
   ]
  },
  {
   "cell_type": "markdown",
   "metadata": {},
   "source": [
    "## Split the Dataset"
   ]
  },
  {
   "cell_type": "code",
   "execution_count": 6,
   "metadata": {
    "collapsed": true
   },
   "outputs": [],
   "source": [
    "# Now, we will split the data using train_test_scplit\n",
    "from sklearn.model_selection import train_test_split"
   ]
  },
  {
   "cell_type": "code",
   "execution_count": 12,
   "metadata": {},
   "outputs": [
    {
     "data": {
      "text/plain": [
       "(array([[  7.50000000e+00,   5.12600000e+03,   1.41860000e+04,\n",
       "           5.25000000e-01],\n",
       "        [  7.00000000e+00,   3.33300000e+03,   6.59400000e+03,\n",
       "           5.13000000e-01],\n",
       "        [  7.50000000e+00,   3.35700000e+03,   4.12100000e+03,\n",
       "           5.47000000e-01],\n",
       "        [  7.50000000e+00,   3.84600000e+03,   9.06100000e+03,\n",
       "           5.79000000e-01],\n",
       "        [  7.00000000e+00,   5.00200000e+03,   9.79400000e+03,\n",
       "           5.93000000e-01],\n",
       "        [  9.00000000e+00,   3.86500000e+03,   1.58600000e+03,\n",
       "           5.80000000e-01],\n",
       "        [  7.00000000e+00,   4.29600000e+03,   4.08300000e+03,\n",
       "           6.23000000e-01],\n",
       "        [  7.00000000e+00,   4.71600000e+03,   5.91500000e+03,\n",
       "           7.24000000e-01],\n",
       "        [  7.00000000e+00,   4.31800000e+03,   1.03400000e+04,\n",
       "           5.86000000e-01],\n",
       "        [  8.00000000e+00,   4.18800000e+03,   5.97500000e+03,\n",
       "           5.63000000e-01],\n",
       "        [  9.00000000e+00,   4.89700000e+03,   2.44900000e+03,\n",
       "           5.11000000e-01],\n",
       "        [  7.00000000e+00,   4.20600000e+03,   8.50800000e+03,\n",
       "           5.72000000e-01],\n",
       "        [  7.00000000e+00,   3.65600000e+03,   3.98500000e+03,\n",
       "           5.63000000e-01],\n",
       "        [  7.00000000e+00,   4.59300000e+03,   7.83400000e+03,\n",
       "           6.63000000e-01],\n",
       "        [  7.00000000e+00,   4.30000000e+03,   3.63500000e+03,\n",
       "           6.03000000e-01],\n",
       "        [  8.00000000e+00,   4.44700000e+03,   8.57700000e+03,\n",
       "           5.29000000e-01],\n",
       "        [  7.00000000e+00,   4.20700000e+03,   6.58000000e+03,\n",
       "           5.45000000e-01],\n",
       "        [  9.00000000e+00,   3.72100000e+03,   4.74600000e+03,\n",
       "           5.44000000e-01],\n",
       "        [  1.00000000e+01,   5.34200000e+03,   1.33300000e+03,\n",
       "           5.71000000e-01],\n",
       "        [  7.00000000e+00,   3.71800000e+03,   4.72500000e+03,\n",
       "           5.40000000e-01],\n",
       "        [  6.58000000e+00,   3.80200000e+03,   7.83400000e+03,\n",
       "           6.29000000e-01],\n",
       "        [  7.00000000e+00,   4.33200000e+03,   8.15900000e+03,\n",
       "           6.08000000e-01],\n",
       "        [  8.50000000e+00,   3.63500000e+03,   3.27400000e+03,\n",
       "           6.63000000e-01],\n",
       "        [  9.00000000e+00,   4.09200000e+03,   1.25000000e+03,\n",
       "           5.72000000e-01],\n",
       "        [  7.00000000e+00,   4.81700000e+03,   6.93000000e+03,\n",
       "           5.74000000e-01],\n",
       "        [  7.00000000e+00,   3.74500000e+03,   2.61100000e+03,\n",
       "           5.08000000e-01],\n",
       "        [  8.50000000e+00,   4.57400000e+03,   2.61900000e+03,\n",
       "           5.51000000e-01],\n",
       "        [  8.00000000e+00,   5.31900000e+03,   1.18680000e+04,\n",
       "           4.51000000e-01],\n",
       "        [  9.00000000e+00,   4.25800000e+03,   4.68600000e+03,\n",
       "           5.17000000e-01],\n",
       "        [  5.00000000e+00,   4.04500000e+03,   1.77820000e+04,\n",
       "           5.66000000e-01],\n",
       "        [  8.00000000e+00,   4.98300000e+03,   6.02000000e+02,\n",
       "           6.02000000e-01],\n",
       "        [  8.50000000e+00,   4.34100000e+03,   6.01000000e+03,\n",
       "           6.77000000e-01],\n",
       "        [  7.00000000e+00,   4.51200000e+03,   8.50700000e+03,\n",
       "           5.52000000e-01],\n",
       "        [  7.00000000e+00,   4.34500000e+03,   3.90500000e+03,\n",
       "           6.72000000e-01],\n",
       "        [  9.00000000e+00,   4.47600000e+03,   3.94200000e+03,\n",
       "           5.71000000e-01],\n",
       "        [  7.50000000e+00,   4.87000000e+03,   2.35100000e+03,\n",
       "           5.29000000e-01],\n",
       "        [  9.00000000e+00,   3.57100000e+03,   1.97600000e+03,\n",
       "           5.25000000e-01],\n",
       "        [  6.00000000e+00,   5.21500000e+03,   2.30200000e+03,\n",
       "           6.72000000e-01]]), array([[471],\n",
       "        [554],\n",
       "        [628],\n",
       "        [631],\n",
       "        [524],\n",
       "        [561],\n",
       "        [610],\n",
       "        [865],\n",
       "        [635],\n",
       "        [574],\n",
       "        [464],\n",
       "        [603],\n",
       "        [699],\n",
       "        [649],\n",
       "        [632],\n",
       "        [464],\n",
       "        [508],\n",
       "        [566],\n",
       "        [457],\n",
       "        [714],\n",
       "        [644],\n",
       "        [566],\n",
       "        [648],\n",
       "        [524],\n",
       "        [525],\n",
       "        [591],\n",
       "        [460],\n",
       "        [344],\n",
       "        [547],\n",
       "        [640],\n",
       "        [540],\n",
       "        [640],\n",
       "        [498],\n",
       "        [968],\n",
       "        [510],\n",
       "        [414],\n",
       "        [541],\n",
       "        [782]]))"
      ]
     },
     "execution_count": 12,
     "metadata": {},
     "output_type": "execute_result"
    }
   ],
   "source": [
    "X_train, X_test, y_train, y_test = train_test_split(X, Y, test_size=0.2, random_state=0) \n",
    "X_train,y_train"
   ]
  },
  {
   "cell_type": "markdown",
   "metadata": {},
   "source": [
    "From the above output, we can see that the datasets is not in the same scale, so we should use StandardScalar to scale them"
   ]
  },
  {
   "cell_type": "markdown",
   "metadata": {},
   "source": [
    "\n",
    "## Scale the Data"
   ]
  },
  {
   "cell_type": "code",
   "execution_count": 13,
   "metadata": {
    "collapsed": true
   },
   "outputs": [],
   "source": [
    "from sklearn.preprocessing import StandardScaler"
   ]
  },
  {
   "cell_type": "code",
   "execution_count": 14,
   "metadata": {},
   "outputs": [],
   "source": [
    "sc = StandardScaler()  \n",
    "X_train = sc.fit_transform(X_train)  \n",
    "X_test = sc.transform(X_test)\n"
   ]
  },
  {
   "cell_type": "markdown",
   "metadata": {},
   "source": [
    "## Fit the Model"
   ]
  },
  {
   "cell_type": "code",
   "execution_count": 16,
   "metadata": {},
   "outputs": [
    {
     "name": "stderr",
     "output_type": "stream",
     "text": [
      "/usr/local/lib/python3.4/dist-packages/ipykernel_launcher.py:4: DataConversionWarning: A column-vector y was passed when a 1d array was expected. Please change the shape of y to (n_samples,), for example using ravel().\n",
      "  after removing the cwd from sys.path.\n"
     ]
    },
    {
     "data": {
      "text/plain": [
       "RandomForestRegressor(bootstrap=True, criterion='mse', max_depth=None,\n",
       "           max_features='auto', max_leaf_nodes=None,\n",
       "           min_impurity_split=1e-07, min_samples_leaf=1,\n",
       "           min_samples_split=2, min_weight_fraction_leaf=0.0,\n",
       "           n_estimators=20, n_jobs=1, oob_score=False, random_state=0,\n",
       "           verbose=0, warm_start=False)"
      ]
     },
     "execution_count": 16,
     "metadata": {},
     "output_type": "execute_result"
    }
   ],
   "source": [
    "# Now ,train the algorithm\n",
    "from sklearn.ensemble import RandomForestRegressor\n",
    "regressor = RandomForestRegressor(n_estimators = 20, random_state=0)\n",
    "regressor.fit(X_train,y_train)"
   ]
  },
  {
   "cell_type": "code",
   "execution_count": 17,
   "metadata": {
    "collapsed": true
   },
   "outputs": [],
   "source": [
    "# predict the output\n",
    "y_pred = regressor.predict(X_test)"
   ]
  },
  {
   "cell_type": "code",
   "execution_count": 18,
   "metadata": {},
   "outputs": [
    {
     "data": {
      "text/plain": [
       "array([ 574.1 ,  514.6 ,  604.8 ,  589.75,  625.55])"
      ]
     },
     "execution_count": 18,
     "metadata": {},
     "output_type": "execute_result"
    }
   ],
   "source": [
    "y_pred[:5]\n"
   ]
  },
  {
   "cell_type": "code",
   "execution_count": 20,
   "metadata": {},
   "outputs": [
    {
     "data": {
      "text/plain": [
       "array([[534],\n",
       "       [410],\n",
       "       [577],\n",
       "       [571],\n",
       "       [577]])"
      ]
     },
     "execution_count": 20,
     "metadata": {},
     "output_type": "execute_result"
    }
   ],
   "source": [
    "y_test[:5]"
   ]
  },
  {
   "cell_type": "markdown",
   "metadata": {},
   "source": [
    "\n",
    "## Evaluate the prediction"
   ]
  },
  {
   "cell_type": "code",
   "execution_count": 22,
   "metadata": {},
   "outputs": [],
   "source": [
    "from sklearn import metrics\n",
    "MSE = metrics.mean_squared_error(y_test, y_pred)\n",
    "RMSE = np.sqrt(MSE)\n",
    "MAE = metrics.mean_absolute_error(y_test, y_pred)"
   ]
  },
  {
   "cell_type": "code",
   "execution_count": 25,
   "metadata": {},
   "outputs": [
    {
     "name": "stdout",
     "output_type": "stream",
     "text": [
      "Mean Square error:--  4216.16675\n",
      "Mean Absolute error:--  51.765\n",
      "Root Mean Square error:--  64.932016371\n"
     ]
    }
   ],
   "source": [
    "print('Mean Square error:-- ', MSE)\n",
    "print('Mean Absolute error:-- ', MAE)\n",
    "print('Root Mean Square error:-- ', RMSE)"
   ]
  },
  {
   "cell_type": "code",
   "execution_count": 27,
   "metadata": {},
   "outputs": [
    {
     "name": "stdout",
     "output_type": "stream",
     "text": [
      "values:--  20\n",
      "values:--  30\n",
      "values:--  50\n",
      "values:--  100\n"
     ]
    },
    {
     "name": "stderr",
     "output_type": "stream",
     "text": [
      "/usr/local/lib/python3.4/dist-packages/ipykernel_launcher.py:7: DataConversionWarning: A column-vector y was passed when a 1d array was expected. Please change the shape of y to (n_samples,), for example using ravel().\n",
      "  import sys\n",
      "/usr/local/lib/python3.4/dist-packages/ipykernel_launcher.py:7: DataConversionWarning: A column-vector y was passed when a 1d array was expected. Please change the shape of y to (n_samples,), for example using ravel().\n",
      "  import sys\n",
      "/usr/local/lib/python3.4/dist-packages/ipykernel_launcher.py:7: DataConversionWarning: A column-vector y was passed when a 1d array was expected. Please change the shape of y to (n_samples,), for example using ravel().\n",
      "  import sys\n",
      "/usr/local/lib/python3.4/dist-packages/ipykernel_launcher.py:7: DataConversionWarning: A column-vector y was passed when a 1d array was expected. Please change the shape of y to (n_samples,), for example using ravel().\n",
      "  import sys\n"
     ]
    },
    {
     "name": "stdout",
     "output_type": "stream",
     "text": [
      "values:--  200\n"
     ]
    },
    {
     "name": "stderr",
     "output_type": "stream",
     "text": [
      "/usr/local/lib/python3.4/dist-packages/ipykernel_launcher.py:7: DataConversionWarning: A column-vector y was passed when a 1d array was expected. Please change the shape of y to (n_samples,), for example using ravel().\n",
      "  import sys\n"
     ]
    },
    {
     "name": "stdout",
     "output_type": "stream",
     "text": [
      "values:--  300\n",
      "values:--  500\n"
     ]
    },
    {
     "name": "stderr",
     "output_type": "stream",
     "text": [
      "/usr/local/lib/python3.4/dist-packages/ipykernel_launcher.py:7: DataConversionWarning: A column-vector y was passed when a 1d array was expected. Please change the shape of y to (n_samples,), for example using ravel().\n",
      "  import sys\n",
      "/usr/local/lib/python3.4/dist-packages/ipykernel_launcher.py:7: DataConversionWarning: A column-vector y was passed when a 1d array was expected. Please change the shape of y to (n_samples,), for example using ravel().\n",
      "  import sys\n"
     ]
    },
    {
     "name": "stdout",
     "output_type": "stream",
     "text": [
      "values:--  600\n"
     ]
    },
    {
     "name": "stderr",
     "output_type": "stream",
     "text": [
      "/usr/local/lib/python3.4/dist-packages/ipykernel_launcher.py:7: DataConversionWarning: A column-vector y was passed when a 1d array was expected. Please change the shape of y to (n_samples,), for example using ravel().\n",
      "  import sys\n"
     ]
    },
    {
     "name": "stdout",
     "output_type": "stream",
     "text": [
      "values:--  700\n"
     ]
    },
    {
     "name": "stderr",
     "output_type": "stream",
     "text": [
      "/usr/local/lib/python3.4/dist-packages/ipykernel_launcher.py:7: DataConversionWarning: A column-vector y was passed when a 1d array was expected. Please change the shape of y to (n_samples,), for example using ravel().\n",
      "  import sys\n"
     ]
    },
    {
     "name": "stdout",
     "output_type": "stream",
     "text": [
      "values:--  800\n"
     ]
    },
    {
     "name": "stderr",
     "output_type": "stream",
     "text": [
      "/usr/local/lib/python3.4/dist-packages/ipykernel_launcher.py:7: DataConversionWarning: A column-vector y was passed when a 1d array was expected. Please change the shape of y to (n_samples,), for example using ravel().\n",
      "  import sys\n"
     ]
    },
    {
     "name": "stdout",
     "output_type": "stream",
     "text": [
      "values:--  900\n"
     ]
    },
    {
     "name": "stderr",
     "output_type": "stream",
     "text": [
      "/usr/local/lib/python3.4/dist-packages/ipykernel_launcher.py:7: DataConversionWarning: A column-vector y was passed when a 1d array was expected. Please change the shape of y to (n_samples,), for example using ravel().\n",
      "  import sys\n"
     ]
    }
   ],
   "source": [
    "# we will take various value of trees fro predictions\n",
    "trees_values = [20,30,50,100,200,300,500,600,700,800,900]\n",
    "estimated_values = []\n",
    "for values in trees_values:\n",
    "    print('values:-- ', values)\n",
    "    new_regressor = RandomForestRegressor(n_estimators=values, random_state = 0)\n",
    "    new_regressor.fit(X_train, y_train)\n",
    "    y_pred = new_regressor.predict(X_test)\n",
    "    estimated_values.append(np.sqrt(metrics.mean_squared_error(y_test,y_pred)))"
   ]
  },
  {
   "cell_type": "code",
   "execution_count": 28,
   "metadata": {},
   "outputs": [
    {
     "data": {
      "text/plain": [
       "[64.932016370970643,\n",
       " 62.61592183036727,\n",
       " 61.12661122620819,\n",
       " 59.977180910743037,\n",
       " 58.904165705831034,\n",
       " 58.689840101256976,\n",
       " 58.574657892300138,\n",
       " 58.893905985443205,\n",
       " 59.336052574316398,\n",
       " 59.413626306912967,\n",
       " 59.317417454376653]"
      ]
     },
     "execution_count": 28,
     "metadata": {},
     "output_type": "execute_result"
    }
   ],
   "source": [
    "estimated_values\n"
   ]
  },
  {
   "cell_type": "code",
   "execution_count": 29,
   "metadata": {},
   "outputs": [
    {
     "data": {
      "text/plain": [
       "[<matplotlib.lines.Line2D at 0x7fef62203f60>]"
      ]
     },
     "execution_count": 29,
     "metadata": {},
     "output_type": "execute_result"
    },
    {
     "data": {
      "image/png": "[encoded data removed]",
      "text/plain": [
       "<Figure size 432x288 with 1 Axes>"
      ]
     },
     "metadata": {},
     "output_type": "display_data"
    }
   ],
   "source": [
    "# visualize the estimated values with tree values\n",
    "plt.title('RMSE vs TREES')\n",
    "plt.xlabel('number of trees')\n",
    "plt.ylabel('RMSE value')\n",
    "plt.plot(trees_values, estimated_values)"
   ]
  },
  {
   "cell_type": "markdown",
   "metadata": {},
   "source": [
    "We can say that after 400 number of trees, RMSE is constant"
   ]
  },
  {
   "cell_type": "markdown",
   "metadata": {},
   "source": [
    "FINISH"
   ]
  }
 ],
 "metadata": {
  "kernelspec": {
   "display_name": "Python 3",
   "language": "python",
   "name": "python3"
  },
  "language_info": {
   "codemirror_mode": {
    "name": "ipython",
    "version": 3
   },
   "file_extension": ".py",
   "mimetype": "text/x-python",
   "name": "python",
   "nbconvert_exporter": "python",
   "pygments_lexer": "ipython3",
   "version": "3.4.3"
  }
 },
 "nbformat": 4,
 "nbformat_minor": 2
}
